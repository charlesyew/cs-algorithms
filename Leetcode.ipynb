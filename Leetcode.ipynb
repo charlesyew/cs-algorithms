{
 "cells": [
  {
   "cell_type": "markdown",
   "metadata": {},
   "source": [
    "# Leetcode Coding Test"
   ]
  },
  {
   "cell_type": "markdown",
   "metadata": {},
   "source": [
    "## 1. Arrays\n",
    "- [Two Sum](#2sum) \n",
    "- [Contain Duplicate](#contains_duplicate)\n",
    "- [Best Time to Buy and Sell Stock](#buyandsellstock)\n",
    "- [3Sum](#3sum) \n",
    "- Product of Array Except Self\n",
    "- Maximum Subarray"
   ]
  },
  {
   "cell_type": "markdown",
   "metadata": {},
   "source": [
    "<a id = '2sum'> </a> \n",
    "<h3> <font color = 'slateblue'> Two Sum </font> </h3> \n",
    "\n",
    "Difficulty: <b> <font color = 'green'> Easy </font> </b>\n",
    "\n",
    "Description: Given an array of integers `nums` and an integer `target`, return indices of the two numbers such that they add up to `target`.\n",
    "\n",
    "You may assume that each input would have __exactly one solution__, and you may not use the same element twice.\n",
    "\n",
    "You can return the answer in any order.\n",
    "\n",
    "_Hint:_ <font color = 'purple'> use hash map to instantly check for difference value"
   ]
  },
  {
   "cell_type": "code",
   "execution_count": 58,
   "metadata": {},
   "outputs": [],
   "source": [
    "def twosums1(nums, target): # one pass hash table\n",
    "    hashmap = {}\n",
    "    for i,c in enumerate(nums): \n",
    "        complement = target - c\n",
    "        if complement in hashmap: return [hashmap[complement], i]\n",
    "        hashmap[c] = i\n",
    "\n",
    "def twosums2(nums, target): # two pass hash table\n",
    "    hashmap = {}\n",
    "        for i, c in enumerate(nums):\n",
    "            hashmap[c] = i\n",
    "        for i, c in enumerate(nums):\n",
    "            complement = target - c\n",
    "            if complement in hashmap and hashmap[complement] != i:\n",
    "                return [i, hashmap[complement]] "
   ]
  },
  {
   "cell_type": "markdown",
   "metadata": {},
   "source": [
    "<a id = 'contains_duplicate'> </a>\n",
    "<h3> <font color = 'slateblue'> Contains Duplicate </font> </h3>\n",
    "\n",
    "Difficulty: <b> <font color = green> Easy </font> </b>\n",
    "\n",
    "Description: Given an integer array `nums`, return `true` if any value appears __at least twice__ in the array, and return `false` if every element is distinct."
   ]
  },
  {
   "cell_type": "code",
   "execution_count": 1,
   "metadata": {},
   "outputs": [],
   "source": [
    "def containsDuplicate(nums): \n",
    "    hashmap = {}\n",
    "    for i,c in enumerate(nums): \n",
    "        if c in hashmap: return True\n",
    "        hashmap[c] = i\n",
    "    return False\n",
    "\n",
    "\"\"\"\n",
    "Time Complexity: O(n)\n",
    "Space Complexity: O(n)\n",
    "\"\"\""
   ]
  },
  {
   "cell_type": "markdown",
   "metadata": {},
   "source": [
    "<a id = 'buyandsellstock'> </a>\n",
    "<h3> <font color = 'slateblue'> Best Time To Buy And Sell Stock </font> </h3> \n",
    "\n",
    "Difficulty: <b> <font color = 'green'> Easy </font> </b> \n",
    "\n",
    "Description: You are given an array `prices` where `prices[i]` is the price of a given stock on the $i^{th}$ day.\n",
    "\n",
    "You want to maximize your profit by choosing a __single__ day to buy one stock and choosing a __different day in the future__ to sell that stock.\n",
    "\n",
    "Return the maximum profit you can achieve from this transaction. If you cannot achieve any profit, return 0."
   ]
  },
  {
   "cell_type": "code",
   "execution_count": 11,
   "metadata": {},
   "outputs": [],
   "source": [
    "def maxProfit(prices): \n",
    "    local_min, profit = float('inf'), 0\n",
    "    for price in prices:\n",
    "        if price < local_min: local_min = price\n",
    "        if price - local_min > profit: profit = price - local_min\n",
    "    return profit\n",
    "\n",
    "\"\"\"\n",
    "Time Complexity: O(n)\n",
    "Space Complexity: O(1)\n",
    "\"\"\""
   ]
  },
  {
   "cell_type": "code",
   "execution_count": 16,
   "metadata": {},
   "outputs": [
    {
     "data": {
      "text/plain": [
       "7"
      ]
     },
     "execution_count": 16,
     "metadata": {},
     "output_type": "execute_result"
    }
   ],
   "source": [
    "prices = [7,6,4,3,1,5,3,8]\n",
    "maxProfit(prices)"
   ]
  },
  {
   "cell_type": "markdown",
   "metadata": {},
   "source": [
    "<a id = '3sum'> </a>\n",
    "<h3> <font color = 'slateblue'> 3Sum </font> </h3> \n",
    "\n",
    "Difficulty: <b> <font color = 'Orange'> Medium </font> </b> \n",
    "\n",
    "Description: Given an integer array nums, return all the triplets `[nums[i], nums[j], nums[k]]` such that `i != j`, `i != k`, and `j != k`, and `nums[i] + nums[j] + nums[k] == 0`.\n",
    "\n",
    "Notice that the solution set must not contain duplicate triplets.\n",
    "\n",
    "_Hint:_ <font color = 'purple'> sort input, for each first element, find next two where -a = b+c, if a=prevA, skip a, if b=prevB skip b to elim duplicates; to find b,c use two pointers, left/right on remaining list; <font>"
   ]
  },
  {
   "cell_type": "code",
   "execution_count": null,
   "metadata": {},
   "outputs": [],
   "source": [
    "def threesums1(nums): # with bags\n",
    "    from collections_extended import bag\n",
    "    arr = []\n",
    "    n = len(nums)\n",
    "    for i in range(n): \n",
    "        for j in range(i+1,n): \n",
    "            for k in range(j + 1, n): \n",
    "                bag_n = bag([nums[i] , nums[j], nums[k]])\n",
    "                sum_n = nums[i] + nums[j] + nums[k]\n",
    "                if (sum_n == 0) & (bag_n not in arr): \n",
    "                    arr.append(bag_n)\n",
    "    \n",
    "    for i, l in enumerate(arr): \n",
    "        arr[i] = list(l)\n",
    "    return arr\n",
    "\"\"\"\n",
    "Time Complexity: \n",
    "Space Complexity: \n",
    "\"\"\"\n",
    "def threesums2(nums): # without bags \n",
    "    nums.sort()\n",
    "    n, arr = len(nums), []\n",
    "    for i in range(n): \n",
    "        if i > 0 and nums[i] == nums[i-1]: \n",
    "            continue\n",
    "        j, k = i + 1, n - 1\n",
    "        target = nums[i] * -1 \n",
    "        while j < k: \n",
    "            if nums[j] + nums[k] == target: \n",
    "                arr.append([nums[i], nums[j], nums[k]])\n",
    "                j += 1\n",
    "                while j < k and nums[j] == nums[j-1]: \n",
    "                    j += 1\n",
    "            elif nums[j] + nums[k] <= target: \n",
    "                j += 1\n",
    "            else: \n",
    "                k -= 1\n",
    "    return arr"
   ]
  },
  {
   "cell_type": "markdown",
   "metadata": {},
   "source": [
    "## 2. Binary"
   ]
  },
  {
   "cell_type": "code",
   "execution_count": null,
   "metadata": {},
   "outputs": [],
   "source": []
  },
  {
   "cell_type": "markdown",
   "metadata": {},
   "source": [
    "## 3. Dynamic Programming"
   ]
  },
  {
   "cell_type": "code",
   "execution_count": null,
   "metadata": {},
   "outputs": [],
   "source": []
  },
  {
   "cell_type": "markdown",
   "metadata": {},
   "source": [
    "## 4. Graph"
   ]
  },
  {
   "cell_type": "code",
   "execution_count": null,
   "metadata": {},
   "outputs": [],
   "source": []
  },
  {
   "cell_type": "markdown",
   "metadata": {},
   "source": [
    "## 5. Interval"
   ]
  },
  {
   "cell_type": "code",
   "execution_count": null,
   "metadata": {},
   "outputs": [],
   "source": []
  },
  {
   "cell_type": "markdown",
   "metadata": {},
   "source": [
    "## 6. Linked List \n",
    "- [Reverse a Linked List](#reverse_linked_list)\n",
    "- Detect Cycle in a Linked List\n",
    "- Merge Two Sorted Lists\n",
    "- Merge K Sorted Lists\n",
    "- Remove Nth Node From End of List\n",
    "- Reorder List\n",
    "- [Add Two Numbers](#add_two_numbers)"
   ]
  },
  {
   "cell_type": "markdown",
   "metadata": {},
   "source": [
    "<a id = 'reverse_linked_list'> </a>\n",
    "<h3> <font color = 'slateblue'> Reverse a Linked List </font> </h3>\n",
    "\n",
    "Difficulty: <b> <font color = 'orange'> Medium </font> </b>\n",
    "\n",
    "Description: Given the `head` of a singly linked list, reverse the list, and return the reversed list.\n",
    "\n",
    "_Hint:_ "
   ]
  },
  {
   "cell_type": "code",
   "execution_count": 139,
   "metadata": {},
   "outputs": [],
   "source": [
    "class ListNode:\n",
    "    def __init__(self, val=0, next=None):\n",
    "        self.val = val\n",
    "        self.next = next\n",
    "def reverseList(head: ListNode) -> ListNode:\n",
    "    rev = None\n",
    "    curr = head\n",
    "    while curr: \n",
    "        temp_next = curr.next\n",
    "        curr.next = rev\n",
    "        rev = curr\n",
    "        curr = temp_next\n",
    "    return rev"
   ]
  },
  {
   "cell_type": "markdown",
   "metadata": {},
   "source": [
    "<a id = 'add_two_numbers'> </a>\n",
    "<h3> <font color = 'slateblue'> Add Two Numbers </font> </h3>\n",
    "\n",
    "Difficulty: <b> <font color = 'Orange'> Medium </font> </b> \n",
    "\n",
    "Description: You are given two non-empty linked lists representing two non-negative integers. The digits are stored in reverse order, and each of their nodes contains a single digit. Add the two numbers and return the sum as a linked list.\n",
    "\n",
    "You may assume the two numbers do not contain any leading zero, except the number 0 itself."
   ]
  },
  {
   "cell_type": "code",
   "execution_count": 122,
   "metadata": {},
   "outputs": [],
   "source": [
    "def addTwoNumbers(l1, l2):\n",
    "    carry = 0\n",
    "    res = n = ListNode(0)\n",
    "    while l1 or l2 or carry: \n",
    "        if l1: \n",
    "            carry += l1.val\n",
    "            l1 = l1.next \n",
    "        if l2: \n",
    "            carry += l2.val\n",
    "            l2 = l2.next\n",
    "        carry, val = divmod(carry,10)\n",
    "        n.next = n = ListNode(val)\n",
    "    return res.next"
   ]
  },
  {
   "cell_type": "markdown",
   "metadata": {},
   "source": [
    "## 7. Matrix\n",
    "- [Set Matrix Zeros](#set_matrix_zeros)\n",
    "- Sprial Matrix\n",
    "- [Rotate Image](#rotate_image)\n",
    "- Word Search\n",
    "- [Search a 2D Matrix I](#2d_matrix_1)\n",
    "- [Search a 2D Matrix II](#2d_matrix_2)\n",
    "- [Kth Smallest Element in a Sorted Matrix](#kth_smallest_element)"
   ]
  },
  {
   "cell_type": "markdown",
   "metadata": {},
   "source": [
    "<a id = 'set_matrix_zeros'> </a>\n",
    "<h3> <font color = 'slateblue'> Set Matrix Zeros </font> </h3> \n",
    "\n",
    "Difficulty: <b> <font color = 'Orange'> Medium </font> </b> \n",
    "\n",
    "Given an `m x n` integer matrix `matrix`, if an element is `0`, set its entire row and column to `0`'s.\n",
    "\n",
    "You must do it in `place`.\n",
    "\n",
    "_Hint:_ use sets to keep track of all rows, cols to zero out, after, for each num if it is in a zero row or col then change it to 0; flag first cell in row, and col to mark row/col that needs to be zeroed;"
   ]
  },
  {
   "cell_type": "code",
   "execution_count": 119,
   "metadata": {},
   "outputs": [],
   "source": [
    "def setZeroes(matrix): \n",
    "    \"\"\"\n",
    "    Do not return anything, modify matrix in-place instead.\n",
    "    \"\"\"\n",
    "    n = len(matrix)\n",
    "    m = len(matrix[0])\n",
    "    rows = set()\n",
    "    cols = set()\n",
    "    # collect unique rows and cols\n",
    "    for i in range(n): \n",
    "        for j in range(m): \n",
    "            if matrix[i][j] == 0: \n",
    "                rows.add(i)\n",
    "                cols.add(j)\n",
    "    # zero out the rows and cols\n",
    "    for i in range(n): \n",
    "        for j in range(m): \n",
    "            if i in rows or j in cols: matrix[i][j] = 0\n",
    "    return matrix\n",
    "\n",
    "\"\"\"\n",
    "Time Complexity: O(M * N)\n",
    "Space Complexity: O(M + N)\n",
    "\"\"\""
   ]
  },
  {
   "cell_type": "markdown",
   "metadata": {},
   "source": [
    "<a id = 'rotate_image'> </a>\n",
    "<h3> <font color = 'slateblue'> Rotate Image </font> </h3>\n",
    "\n",
    "Difficulty: <b> <font color = 'Orange'> Medium </font> </b> \n",
    "\n",
    "You are given an `n x n` 2D `matrix` representing an image, rotate the image by __90__ degrees (clockwise).\n",
    "\n",
    "You have to rotate the image in-place, which means you have to modify the input 2D matrix directly. __DO NOT__ allocate another 2D matrix and do the rotation.\n",
    "\n",
    "_Hint:_ <font color = 'purple'> rotate = transpose + reverse </font>"
   ]
  },
  {
   "cell_type": "code",
   "execution_count": 84,
   "metadata": {},
   "outputs": [],
   "source": [
    "class Solution(): \n",
    "    def rotate(self, matrix):\n",
    "        self.transpose(matrix)\n",
    "        self.reverse(matrix)\n",
    "    def transpose(self, matrix):\n",
    "        n = len(matrix)\n",
    "        for i in range(n): \n",
    "            for j in range(i,n):\n",
    "                matrix[i][j], matrix[j][i] = matrix[j][i], matrix[i][j]\n",
    "        return matrix\n",
    "    def reverse(self, matrix): \n",
    "        n = len(matrix)\n",
    "        for i in range(n):\n",
    "            for j in range(n//2): \n",
    "                matrix[i][j], matrix[i][-j-1] = matrix[i][-j-1], matrix[i][j]\n",
    "        return matrix"
   ]
  },
  {
   "cell_type": "markdown",
   "metadata": {},
   "source": [
    "<a id = '2d_matrix_1'> </a>\n",
    "<h3> <font color = 'slateblue'> Search a 2D Matrix I </font> </h3> \n",
    "\n",
    "Difficulty: <b> <font color = 'Orange'> Medium </font> </b> \n",
    "\n",
    "Description: Write an efficient algorithm that searches for a value in an `m x n` matrix. This matrix has the following properties:\n",
    "\n",
    "Integers in each row are sorted from left to right.\n",
    "The first integer of each row is greater than the last integer of the previous row."
   ]
  },
  {
   "cell_type": "code",
   "execution_count": null,
   "metadata": {},
   "outputs": [],
   "source": [
    "def searchMatrix1(matrix,target): \n",
    "    m = len(matrix)\n",
    "    n = len(matrix[0])\n",
    "    if target < matrix[0][0] or target > matrix[m-1][n-1]: \n",
    "        return False\n",
    "    elif target == matrix[0][0] or target == matrix[m-1][n-1]: \n",
    "        return True\n",
    "    elif m == 1: \n",
    "        for j in range(n-1): \n",
    "            if target == matrix[0][j]:\n",
    "                return True\n",
    "    else: \n",
    "        for i in range(m-1): \n",
    "            if target == matrix[i][n-1]: \n",
    "                return True\n",
    "            elif i == 0 and target < matrix[i][n-1]: \n",
    "                for j in range(n-1): \n",
    "                    if target == matrix[i][j]: \n",
    "                        return True\n",
    "            elif target > matrix[i][n-1] and target < matrix[i+1][n-1]:\n",
    "                for j in range(n-1): \n",
    "                    if target == matrix[i+1][j]: \n",
    "                        return True\n",
    "            else: \n",
    "                for j in range(n-1):\n",
    "                    if target == matrix[m-1][j]: \n",
    "                        return True\n",
    "    return False"
   ]
  },
  {
   "cell_type": "markdown",
   "metadata": {},
   "source": [
    "<a id = '2d_matrix_2'> </a>\n",
    "<h3> <font color = 'slateblue'> Search a 2D Matrix II </font> </h3>\n",
    "\n",
    "Difficulty: <b> <font color = 'Orange'> Medium </font> </b> \n",
    "\n",
    "Description:Write an efficient algorithm that searches for a `target` value in an `m x n` integer `matrix`. The `matrix` has the following properties:\n",
    "\n",
    "Integers in each row are sorted in ascending from left to right.\n",
    "Integers in each column are sorted in ascending from top to bottom."
   ]
  },
  {
   "cell_type": "code",
   "execution_count": null,
   "metadata": {},
   "outputs": [],
   "source": [
    "def searchMatrix2(matrix,target): \n",
    "    m = len(matrix)\n",
    "    n = len(matrix[0])\n",
    "    r, c = 0, n-1\n",
    "    while r < m and c >= 0: \n",
    "        if target > matrix[r][c]: \n",
    "            r += 1\n",
    "        elif target < matrix[r][c]: \n",
    "            c -= 1\n",
    "        else: return True\n",
    "    return False\n",
    "\"\"\"\n",
    "for i in range(100): \n",
    "    print(i,searchMatrix2(matrix,i))\n",
    "\"\"\""
   ]
  },
  {
   "cell_type": "markdown",
   "metadata": {},
   "source": [
    "<a id = 'kth_smallest_element'> </a>\n",
    "<h3> <font color = 'slateblue'> Kth Smallest Element in a Sorted Matrix </font> </h3>\n",
    "\n",
    "Difficulty: <b> <font color = 'Orange'> Medium </font> </b> \n",
    "\n",
    "Description: Given an `n x n` matrix where each of the rows and columns are sorted in ascending order, return the $k^{th}$ smallest element in the matrix.\n",
    "\n",
    "Note that it is the $k^{th}$ smallest element in the sorted order, not the $k^{th}$ distinct element."
   ]
  },
  {
   "cell_type": "code",
   "execution_count": null,
   "metadata": {},
   "outputs": [],
   "source": [
    "def kthSmallest1(matrix, k):\n",
    "    l = []\n",
    "    for row in matrix: \n",
    "        l += row\n",
    "    return sorted(l)[k-1]\n",
    "\n",
    "# alternative solution \n",
    "def kthSmallest(self, matrix, k):\n",
    "    lo, hi = matrix[0][0], matrix[-1][-1]\n",
    "    while lo<hi:\n",
    "        mid = (lo+hi)//2\n",
    "        if sum(bisect.bisect_right(row, mid) for row in matrix) < k:\n",
    "            lo = mid+1\n",
    "        else:\n",
    "            hi = mid\n",
    "    return lo"
   ]
  },
  {
   "cell_type": "markdown",
   "metadata": {},
   "source": [
    "<h3> <font color = 'slateblue'> Matrix Summation </font> </h3>\n",
    "Description: Akuna Python Dynamics Q1"
   ]
  },
  {
   "cell_type": "code",
   "execution_count": null,
   "metadata": {},
   "outputs": [],
   "source": [
    "def findBeforeMatrix(after):\n",
    "    # Write your code here\n",
    "    m = len(after)\n",
    "    n = len(after[0])\n",
    "\n",
    "    # reversing the columns\n",
    "    for i in range(m-1, -1, -1): \n",
    "        for j in range(n-1, 0 , -1): \n",
    "            after[i][j] -= after[i][j -1]\n",
    "            \n",
    "    # reversing the rows\n",
    "    for i in range(m-1, 0 , -1): \n",
    "        for j in range(n-1, -1 , -1): \n",
    "            after[i][j] -= after[i-1][j]\n",
    "    return after"
   ]
  },
  {
   "cell_type": "markdown",
   "metadata": {},
   "source": [
    "## 8. String\n",
    "- Longest Substring without Repeating Characters\n",
    "- Longest Repeating Character Replacement\n",
    "- Minimum Window Substring\n",
    "- Valid Anagram \n",
    "- Group Anagrams \n",
    "- Valid Parentheses\n",
    "- Valid Palindrome\n",
    "- Longest Palindromic Substring\n",
    "- Palindromic Substrings\n",
    "- Encode and Deocde Strings"
   ]
  },
  {
   "cell_type": "markdown",
   "metadata": {},
   "source": [
    "<h3> <font color = 'slateblue'> Longest Substring without Repeating Characters </font> </h3>  \n",
    "\n",
    "Difficulty: <b> <font color = 'Orange'> Medium </font> </b> \n",
    "\n",
    "Description: Given a string `s`, find the length of the longest substring without repeating characters."
   ]
  },
  {
   "cell_type": "code",
   "execution_count": 5,
   "metadata": {},
   "outputs": [],
   "source": [
    "class Solution1(object):\n",
    "    def lengthOfLongestSubstring(self, s):\n",
    "        \"\"\"\n",
    "        :type s: str\n",
    "        :rtype: int\n",
    "        \"\"\"\n",
    "        \n",
    "        longest_str = \"\"\n",
    "        l = len(s)\n",
    "        for k in range(l): \n",
    "            front_str = \"\"\n",
    "            s_sub = s[k:]\n",
    "            for i in s_sub: \n",
    "                if i not in set(front_str): \n",
    "                    front_str += i\n",
    "                    if len(front_str) > len(longest_str) : \n",
    "                        longest_str = front_str\n",
    "                elif len(front_str) > len(longest_str) : \n",
    "                    longest_str = front_str\n",
    "                    front_str = i\n",
    "                else: \n",
    "                    front_str = i\n",
    "        return len(longest_str)\n",
    "    \n",
    "class Solution2: \n",
    "    # we use the hash map to store the location of the chars we have seen before . \n",
    "    # Every time we met a new char ,we check have we met it before? if we have met .we get the position . \n",
    "    # and use the start <= usedChar[s[i]] to make sure we don't worry that 'pwwp' we won't miss w and go straight to \n",
    "    # p by this\n",
    "    def lengthOfLongestSubstring(self, s):\n",
    "        used = {}\n",
    "        max_length = start = 0\n",
    "        for i, c in enumerate(s):\n",
    "            if c in used and start <= used[c]:\n",
    "                start = used[c] + 1\n",
    "            else:\n",
    "                max_length = max(max_length, i - start + 1)\n",
    "\n",
    "            used[c] = i\n",
    "        return max_length"
   ]
  },
  {
   "cell_type": "markdown",
   "metadata": {},
   "source": [
    "<h3> <font color = 'slateblue'> Longest Palindromic Substring </font> </h3>\n",
    "\n",
    "Difficulty: <b> <font color = 'Orange'> Medium </font> </b> \n",
    "\n",
    "Description: Given a string `s`, return the longest palindromic substring in `s`."
   ]
  },
  {
   "cell_type": "code",
   "execution_count": null,
   "metadata": {},
   "outputs": [],
   "source": [
    "def expandFromCenter(s,l,r): \n",
    "    while l >= 0 and r < len(s) and s[l] == s[r]: \n",
    "        l -= 1\n",
    "        r += 1\n",
    "    return r-l -1\n",
    "\n",
    "def longestPalindrome(s):\n",
    "    # expanding around the center\n",
    "    start = 0\n",
    "    end = 0\n",
    "    for i in range(len(s)): \n",
    "        len1 = expandFromCenter(s,i,i)\n",
    "        len2 = expandFromCenter(s,i,i+1)\n",
    "        len_max = max(len1,len2)\n",
    "        if len_max > end - start: \n",
    "            start = int(i - (len_max - 1)/2)\n",
    "            end = int(i + len_max/2)\n",
    "    return s[start:end+1]"
   ]
  },
  {
   "cell_type": "markdown",
   "metadata": {},
   "source": [
    "<h3> <font color = 'slateblue'> Valid Parentheses </font> </h3>\n",
    "\n",
    "Difficulty: <b> <font color = 'Orange'> Medium </font> </b> \n",
    "\n",
    "Description: Given `n` pairs of parentheses, write a function to generate all combinations of well-formed parentheses."
   ]
  },
  {
   "cell_type": "code",
   "execution_count": null,
   "metadata": {},
   "outputs": [],
   "source": [
    "def generateParenthesis(n):\n",
    "    brac = {'(':1, ')':-1}\n",
    "    group = []\n",
    "    count = 0\n",
    "    while count < n*2: \n",
    "        s = ''\n",
    "        tally = 0\n",
    "        for key, value in brac.items(): \n",
    "            if tally += value >= 0: \n",
    "                s += key\n",
    "            else: \n",
    "                continue\n",
    "        group.append(s)\n",
    "        count += 1\n",
    "    return group"
   ]
  },
  {
   "cell_type": "markdown",
   "metadata": {},
   "source": [
    "<h3> <font color = 'slateblue'> Minimum number of swaps to make a string (of brackets) balanced </font> </h3>\n",
    "\n",
    "Difficulty : <b> <font color = 'Orange'> Medium </font> </b> \n",
    "\n",
    "Description: You are given a 0-indexed string `s` of even length `n`. The string consists of exactly `n / 2` opening brackets `'['` and `n / 2` closing brackets `']'`.\n",
    "\n",
    "A string is called balanced if and only if:\n",
    "\n",
    "- It is the empty string, or\n",
    "- It can be written as `AB`, where both `A` and `B` are balanced strings, or\n",
    "- It can be written as `[C]`, where `C` is a balanced string.\n",
    "You may swap the brackets at any two indices any number of times.\n",
    "\n",
    "Return the minimum number of swaps to make `s` balanced."
   ]
  },
  {
   "cell_type": "code",
   "execution_count": 4,
   "metadata": {},
   "outputs": [
    {
     "name": "stdout",
     "output_type": "stream",
     "text": [
      "0\n"
     ]
    }
   ],
   "source": [
    "def minSwaps(s):\n",
    "    count, swap = 0, 0\n",
    "    for i,c in enumerate(s): \n",
    "        if c == ']': \n",
    "            count -= 1\n",
    "        else: \n",
    "            count += 1\n",
    "        swap = min(count,swap)\n",
    "    min_swap = (-swap + 1)//2\n",
    "    return min_swap\n",
    "\n",
    "print(f\"{minSwaps('[][[]][]')}\")"
   ]
  },
  {
   "cell_type": "markdown",
   "metadata": {},
   "source": [
    "<h3> <font color = 'slateblue'> Is a String of Brackets Balanced? </font> </h3>\n",
    "\n",
    "Difficulty : <b> <font color = 'Orange'> Medium </font> </b> \n",
    "\n",
    "Description: "
   ]
  },
  {
   "cell_type": "code",
   "execution_count": 3,
   "metadata": {},
   "outputs": [
    {
     "name": "stdout",
     "output_type": "stream",
     "text": [
      "True\n"
     ]
    }
   ],
   "source": [
    "def balanced(a_str):\n",
    "  stack = []\n",
    "  pushChars, popChars = \"({[\", \")}]\"\n",
    "  for c in a_str :\n",
    "    if c in pushChars :\n",
    "      stack.append(c)\n",
    "    elif c in popChars :\n",
    "      if not len(stack) :\n",
    "        return False\n",
    "      else :\n",
    "        stackTop = stack.pop()\n",
    "        balancingBracket = pushChars[popChars.index(c)]\n",
    "        if stackTop != balancingBracket :\n",
    "          return False\n",
    "    else :\n",
    "      return False\n",
    "  return not len(stack)\n",
    "\n",
    "print(f\"{balanced('{()}')}\")"
   ]
  },
  {
   "cell_type": "markdown",
   "metadata": {},
   "source": [
    "## 9. Tree"
   ]
  },
  {
   "cell_type": "code",
   "execution_count": null,
   "metadata": {},
   "outputs": [],
   "source": []
  },
  {
   "cell_type": "markdown",
   "metadata": {},
   "source": [
    "## 10. Heap "
   ]
  },
  {
   "cell_type": "code",
   "execution_count": null,
   "metadata": {},
   "outputs": [],
   "source": []
  },
  {
   "cell_type": "markdown",
   "metadata": {},
   "source": []
  },
  {
   "cell_type": "code",
   "execution_count": 26,
   "metadata": {},
   "outputs": [],
   "source": []
  },
  {
   "cell_type": "markdown",
   "metadata": {},
   "source": []
  },
  {
   "cell_type": "code",
   "execution_count": 6,
   "metadata": {},
   "outputs": [],
   "source": []
  },
  {
   "cell_type": "markdown",
   "metadata": {},
   "source": [
    "### Minimizing Travel Cost\n",
    "Description: Akuna Python Dynamics Q2"
   ]
  },
  {
   "cell_type": "code",
   "execution_count": 33,
   "metadata": {},
   "outputs": [],
   "source": [
    "def minimizeCost(numPeople, x, y):\n",
    "    # Write your code here\n",
    "    import numpy as np\n",
    "    n = len(numPeople)\n",
    "    r = max(x)\n",
    "    c = max(y)\n",
    "    mat_final = np.zeros((r,c))\n",
    "    for k in range(n):\n",
    "        mat_temp = np.zeros((r,c))\n",
    "        for i in range(r): \n",
    "            for j in range(c): \n",
    "                mat_temp[i,j] = abs(i - x[k] + 1) + abs(j - y[k] + 1)   \n",
    "        mat_final += mat_temp * numPeople[k]\n",
    "    return mat_final, mat_final.min()\n",
    "\n",
    "\"\"\"\n",
    "numPeople = [1,2,1]\n",
    "x = [1,3,2]\n",
    "y = [1,3,2]\n",
    "minimizeCost(numPeople, x, y)\n",
    "\"\"\""
   ]
  },
  {
   "cell_type": "markdown",
   "metadata": {},
   "source": [
    "### Prime Numbers\n",
    "Difficulty: Hard"
   ]
  },
  {
   "cell_type": "code",
   "execution_count": 41,
   "metadata": {},
   "outputs": [],
   "source": [
    "def prime_factors(n):    \n",
    "    return set(reduce(list.__add__, ([i, n//i] for i in range(1, int(n**0.5) + 1) if n % i == 0)))\n",
    "\n",
    "def product_sets(n):\n",
    "    return set(products(1, [], n, prime_factors(n)))\n",
    "\n",
    "def products(current_product, current_list, aim, factors):\n",
    "\n",
    "    if current_product == aim:\n",
    "        yield tuple(sorted(current_list))\n",
    "\n",
    "    elif 0 < current_product < aim:\n",
    "        for factor in factors:\n",
    "            if factor != 1:\n",
    "                for product in products(current_product * factor, current_list + [factor], aim, factors):\n",
    "                    yield product\n",
    "\n",
    "def  is_3d_array_size( a_size):\n",
    "    is_3d = False \n",
    "    final_list = list(product_sets(a_size))\n",
    "    for tuple in final_list:\n",
    "        if len(tuple)==3:\n",
    "            is_3d = True\n",
    "        print(tuple)\n",
    "    return is_3d\n",
    "    "
   ]
  }
 ],
 "metadata": {
  "kernelspec": {
   "display_name": "Python 3",
   "language": "python",
   "name": "python3"
  },
  "language_info": {
   "codemirror_mode": {
    "name": "ipython",
    "version": 3
   },
   "file_extension": ".py",
   "mimetype": "text/x-python",
   "name": "python",
   "nbconvert_exporter": "python",
   "pygments_lexer": "ipython3",
   "version": "3.8.5"
  }
 },
 "nbformat": 4,
 "nbformat_minor": 4
}

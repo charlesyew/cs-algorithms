{
 "cells": [
  {
   "cell_type": "markdown",
   "metadata": {},
   "source": [
    "# Leetcode Coding Test"
   ]
  },
  {
   "cell_type": "markdown",
   "metadata": {},
   "source": [
    "### Minimum number of swaps to make a string (of brackets) balanced\n",
    "Difficulty : *Medium*\n",
    "\n",
    "Description: You are given a 0-indexed string `s` of even length `n`. The string consists of exactly `n / 2` opening brackets `'['` and `n / 2` closing brackets `']'`.\n",
    "\n",
    "A string is called balanced if and only if:\n",
    "\n",
    "- It is the empty string, or\n",
    "- It can be written as `AB`, where both `A` and `B` are balanced strings, or\n",
    "- It can be written as `[C]`, where `C` is a balanced string.\n",
    "You may swap the brackets at any two indices any number of times.\n",
    "\n",
    "Return the minimum number of swaps to make `s` balanced."
   ]
  },
  {
   "cell_type": "code",
   "execution_count": 26,
   "metadata": {},
   "outputs": [],
   "source": [
    "def minSwaps(s):\n",
    "    count, swap = 0, 0\n",
    "    for i,c in enumerate(s): \n",
    "        if c == ']': \n",
    "            count -= 1\n",
    "        else: \n",
    "            count += 1\n",
    "        swap = min(count,swap)\n",
    "    min_swap = (-swap + 1)//2\n",
    "    return min_swap"
   ]
  },
  {
   "cell_type": "code",
   "execution_count": 39,
   "metadata": {},
   "outputs": [
    {
     "data": {
      "text/plain": [
       "0"
      ]
     },
     "execution_count": 39,
     "metadata": {},
     "output_type": "execute_result"
    }
   ],
   "source": [
    "minSwaps('[][[]][]')"
   ]
  },
  {
   "cell_type": "markdown",
   "metadata": {},
   "source": [
    "### Is a String of Brackets Balanced?\n",
    "Difficulty : *Medium*\n",
    "\n",
    "Description: "
   ]
  },
  {
   "cell_type": "code",
   "execution_count": 6,
   "metadata": {},
   "outputs": [],
   "source": [
    "def balanced(a_str):\n",
    "  stack = []\n",
    "  pushChars, popChars = \"({[\", \")}]\"\n",
    "  for c in a_str :\n",
    "    if c in pushChars :\n",
    "      stack.append(c)\n",
    "    elif c in popChars :\n",
    "      if not len(stack) :\n",
    "        return False\n",
    "      else :\n",
    "        stackTop = stack.pop()\n",
    "        balancingBracket = pushChars[popChars.index(c)]\n",
    "        if stackTop != balancingBracket :\n",
    "          return False\n",
    "    else :\n",
    "      return False\n",
    "  return not len(stack)"
   ]
  },
  {
   "cell_type": "code",
   "execution_count": 7,
   "metadata": {},
   "outputs": [
    {
     "data": {
      "text/plain": [
       "True"
      ]
     },
     "execution_count": 7,
     "metadata": {},
     "output_type": "execute_result"
    }
   ],
   "source": [
    "balanced('{()}')"
   ]
  },
  {
   "cell_type": "markdown",
   "metadata": {},
   "source": [
    "### 3Sum \n",
    "Difficulty: Medium \n",
    "\n",
    "Description: Given an integer array nums, return all the triplets `[nums[i], nums[j], nums[k]]` such that `i != j`, `i != k`, and `j != k`, and `nums[i] + nums[j] + nums[k] == 0`.\n",
    "\n",
    "Notice that the solution set must not contain duplicate triplets."
   ]
  },
  {
   "cell_type": "code",
   "execution_count": 155,
   "metadata": {},
   "outputs": [],
   "source": [
    "def threesums1(nums): # with bags\n",
    "    from collections_extended import bag\n",
    "    arr = []\n",
    "    n = len(nums)\n",
    "    for i in range(n): \n",
    "        for j in range(i+1,n): \n",
    "            for k in range(j + 1, n): \n",
    "                bag_n = bag([nums[i] , nums[j], nums[k]])\n",
    "                sum_n = nums[i] + nums[j] + nums[k]\n",
    "                if (sum_n == 0) & (bag_n not in arr): \n",
    "                    arr.append(bag_n)\n",
    "    \n",
    "    for i, l in enumerate(arr): \n",
    "        arr[i] = list(l)\n",
    "    return arr\n",
    "\n",
    "def threesums2(nums): # without bags \n",
    "    nums.sort()\n",
    "    n, arr = len(nums), []\n",
    "    for i in range(n): \n",
    "        if i > 0 and nums[i] == nums[i-1]: \n",
    "            continue\n",
    "        j, k = i + 1, n - 1\n",
    "        target = nums[i] * -1 \n",
    "        while j < k: \n",
    "            if nums[j] + nums[k] == target: \n",
    "                arr.append([nums[i], nums[j], nums[k]])\n",
    "                j += 1\n",
    "                while j < k and nums[j] == nums[j-1]: \n",
    "                    j += 1\n",
    "            elif nums[j] + nums[k] <= target: \n",
    "                j += 1\n",
    "            else: \n",
    "                k -= 1\n",
    "    return arr"
   ]
  },
  {
   "cell_type": "markdown",
   "metadata": {},
   "source": [
    "### Search a 2D Matrix I\n",
    "Difficulty: *Medium* \n",
    "\n",
    "Description: Write an efficient algorithm that searches for a value in an `m x n` matrix. This matrix has the following properties:\n",
    "\n",
    "Integers in each row are sorted from left to right.\n",
    "The first integer of each row is greater than the last integer of the previous row."
   ]
  },
  {
   "cell_type": "code",
   "execution_count": 338,
   "metadata": {},
   "outputs": [],
   "source": [
    "def searchMatrix1(matrix,target): \n",
    "    m = len(matrix)\n",
    "    n = len(matrix[0])\n",
    "    if target < matrix[0][0] or target > matrix[m-1][n-1]: \n",
    "        return False\n",
    "    elif target == matrix[0][0] or target == matrix[m-1][n-1]: \n",
    "        return True\n",
    "    elif m == 1: \n",
    "        for j in range(n-1): \n",
    "            if target == matrix[0][j]:\n",
    "                return True\n",
    "    else: \n",
    "        for i in range(m-1): \n",
    "            if target == matrix[i][n-1]: \n",
    "                return True\n",
    "            elif i == 0 and target < matrix[i][n-1]: \n",
    "                for j in range(n-1): \n",
    "                    if target == matrix[i][j]: \n",
    "                        return True\n",
    "            elif target > matrix[i][n-1] and target < matrix[i+1][n-1]:\n",
    "                for j in range(n-1): \n",
    "                    if target == matrix[i+1][j]: \n",
    "                        return True\n",
    "            else: \n",
    "                for j in range(n-1):\n",
    "                    if target == matrix[m-1][j]: \n",
    "                        return True\n",
    "    return False"
   ]
  },
  {
   "cell_type": "markdown",
   "metadata": {},
   "source": [
    "### Matrix Summation\n",
    "Description: Akuna Python Dynamics Q1"
   ]
  },
  {
   "cell_type": "code",
   "execution_count": null,
   "metadata": {},
   "outputs": [],
   "source": [
    "def findBeforeMatrix(after):\n",
    "    # Write your code here\n",
    "    m = len(after)\n",
    "    n = len(after[0])\n",
    "\n",
    "    # reversing the columns\n",
    "    for i in range(m-1, -1, -1): \n",
    "        for j in range(n-1, 0 , -1): \n",
    "            after[i][j] -= after[i][j -1]\n",
    "            \n",
    "    # reversing the rows\n",
    "    for i in range(m-1, 0 , -1): \n",
    "        for j in range(n-1, -1 , -1): \n",
    "            after[i][j] -= after[i-1][j]\n",
    "    return after"
   ]
  },
  {
   "cell_type": "markdown",
   "metadata": {},
   "source": [
    "### Minimizing Travel Cost\n",
    "Description: Akuna Python Dynamics Q2"
   ]
  },
  {
   "cell_type": "code",
   "execution_count": 33,
   "metadata": {},
   "outputs": [],
   "source": [
    "def minimizeCost(numPeople, x, y):\n",
    "    # Write your code here\n",
    "    import numpy as np\n",
    "    n = len(numPeople)\n",
    "    r = max(x)\n",
    "    c = max(y)\n",
    "    mat_final = np.zeros((r,c))\n",
    "    for k in range(n):\n",
    "        mat_temp = np.zeros((r,c))\n",
    "        for i in range(r): \n",
    "            for j in range(c): \n",
    "                mat_temp[i,j] = abs(i - x[k] + 1) + abs(j - y[k] + 1)   \n",
    "        mat_final += mat_temp * numPeople[k]\n",
    "    return mat_final, mat_final.min()\n",
    "\n",
    "\"\"\"\n",
    "numPeople = [1,2,1]\n",
    "x = [1,3,2]\n",
    "y = [1,3,2]\n",
    "minimizeCost(numPeople, x, y)\n",
    "\"\"\""
   ]
  },
  {
   "cell_type": "markdown",
   "metadata": {},
   "source": [
    "### Search a 2D Matrix II\n",
    "Difficulty: *Medium* \n",
    "\n",
    "Description:Write an efficient algorithm that searches for a `target` value in an `m x n` integer `matrix`. The `matrix` has the following properties:\n",
    "\n",
    "Integers in each row are sorted in ascending from left to right.\n",
    "Integers in each column are sorted in ascending from top to bottom."
   ]
  },
  {
   "cell_type": "code",
   "execution_count": 339,
   "metadata": {},
   "outputs": [],
   "source": [
    "def searchMatrix2(matrix,target): \n",
    "    m = len(matrix)\n",
    "    n = len(matrix[0])\n",
    "    r, c = 0, n-1\n",
    "    while r < m and c >= 0: \n",
    "        if target > matrix[r][c]: \n",
    "            r += 1\n",
    "        elif target < matrix[r][c]: \n",
    "            c -= 1\n",
    "        else: return True\n",
    "    return False\n",
    "\"\"\"\n",
    "for i in range(100): \n",
    "    print(i,searchMatrix2(matrix,i))\n",
    "\"\"\""
   ]
  },
  {
   "cell_type": "markdown",
   "metadata": {},
   "source": [
    "### Add Two Numbers\n",
    "Difficulty: *Medium*\n",
    "\n",
    "Description: You are given two non-empty linked lists representing two non-negative integers. The digits are stored in reverse order, and each of their nodes contains a single digit. Add the two numbers and return the sum as a linked list.\n",
    "\n",
    "You may assume the two numbers do not contain any leading zero, except the number 0 itself."
   ]
  },
  {
   "cell_type": "code",
   "execution_count": 346,
   "metadata": {},
   "outputs": [],
   "source": [
    "def addTwoNumbers(l1, l2):\n",
    "    carry = 0\n",
    "    res = n = ListNode(0)\n",
    "    while l1 or l2 or carry: \n",
    "        if l1: \n",
    "            carry += l1.val\n",
    "            l1 = l1.next \n",
    "        if l2: \n",
    "            carry += l2.val\n",
    "            l2 = l2.next\n",
    "        carry, val = divmod(carry,10)\n",
    "        n.next = n = ListNode(val)\n",
    "    return res.next"
   ]
  },
  {
   "cell_type": "markdown",
   "metadata": {},
   "source": [
    "### Kth Smallest Element in a Sorted Matrix\n",
    "Difficulty: *Medium* \n",
    "\n",
    "Description: Given an `n x n` matrix where each of the rows and columns are sorted in ascending order, return the $k^{th}$ smallest element in the matrix.\n",
    "\n",
    "Note that it is the $k^{th}$ smallest element in the sorted order, not the $k^{th}$ distinct element.\n",
    "\n"
   ]
  },
  {
   "cell_type": "code",
   "execution_count": 350,
   "metadata": {},
   "outputs": [],
   "source": [
    "def kthSmallest(matrix, k):\n",
    "    l = []\n",
    "    for row in matrix: \n",
    "        l += row\n",
    "    return sorted(l)[k-1]\n",
    "\n",
    "# alternative solution \n",
    "\"\"\"\n",
    "    def kthSmallest(self, matrix, k):\n",
    "        lo, hi = matrix[0][0], matrix[-1][-1]\n",
    "        while lo<hi:\n",
    "            mid = (lo+hi)//2\n",
    "            if sum(bisect.bisect_right(row, mid) for row in matrix) < k:\n",
    "                lo = mid+1\n",
    "            else:\n",
    "                hi = mid\n",
    "        return lo\n",
    "\"\"\""
   ]
  },
  {
   "cell_type": "markdown",
   "metadata": {},
   "source": [
    "### Prime Numbers\n",
    "Difficulty: Hard"
   ]
  },
  {
   "cell_type": "code",
   "execution_count": 41,
   "metadata": {},
   "outputs": [],
   "source": [
    "def prime_factors(n):    \n",
    "    return set(reduce(list.__add__, ([i, n//i] for i in range(1, int(n**0.5) + 1) if n % i == 0)))\n",
    "\n",
    "def product_sets(n):\n",
    "    return set(products(1, [], n, prime_factors(n)))\n",
    "\n",
    "def products(current_product, current_list, aim, factors):\n",
    "\n",
    "    if current_product == aim:\n",
    "        yield tuple(sorted(current_list))\n",
    "\n",
    "    elif 0 < current_product < aim:\n",
    "        for factor in factors:\n",
    "            if factor != 1:\n",
    "                for product in products(current_product * factor, current_list + [factor], aim, factors):\n",
    "                    yield product\n",
    "\n",
    "def  is_3d_array_size( a_size):\n",
    "    is_3d = False \n",
    "    final_list = list(product_sets(a_size))\n",
    "    for tuple in final_list:\n",
    "        if len(tuple)==3:\n",
    "            is_3d = True\n",
    "        print(tuple)\n",
    "    return is_3d\n",
    "    "
   ]
  },
  {
   "cell_type": "markdown",
   "metadata": {},
   "source": [
    "### Longest substring without repeating characters \n",
    "Difficulty: *Medium*\n",
    "\n",
    "Description: Given a string `s`, find the length of the longest substring without repeating characters."
   ]
  },
  {
   "cell_type": "code",
   "execution_count": 66,
   "metadata": {},
   "outputs": [],
   "source": [
    "class Solution1(object):\n",
    "    def lengthOfLongestSubstring(self, s):\n",
    "        \"\"\"\n",
    "        :type s: str\n",
    "        :rtype: int\n",
    "        \"\"\"\n",
    "        \n",
    "        longest_str = \"\"\n",
    "        l = len(s)\n",
    "        for k in range(l): \n",
    "            front_str = \"\"\n",
    "            s_sub = s[k:]\n",
    "            for i in s_sub: \n",
    "                if i not in set(front_str): \n",
    "                    front_str += i\n",
    "                    if len(front_str) > len(longest_str) : \n",
    "                        longest_str = front_str\n",
    "                elif len(front_str) > len(longest_str) : \n",
    "                    longest_str = front_str\n",
    "                    front_str = i\n",
    "                else: \n",
    "                    front_str = i\n",
    "        return len(longest_str)\n",
    "    \n",
    "class Solution2: \n",
    "    # we use the hash map to store the location of the chars we have seen before . \n",
    "    # Every time we met a new char ,we check have we met it before? if we have met .we get the position . \n",
    "    # and use the start <= usedChar[s[i]] to make sure we don't worry that 'pwwp' we won't miss w and go straight to \n",
    "    # p by this\n",
    "    def lengthOfLongestSubstring(self, s):\n",
    "        used = {}\n",
    "        max_length = start = 0\n",
    "        for i, c in enumerate(s):\n",
    "            if c in used and start <= used[c]:\n",
    "                start = used[c] + 1\n",
    "            else:\n",
    "                max_length = max(max_length, i - start + 1)\n",
    "\n",
    "            used[c] = i\n",
    "        return max_length\n",
    "    "
   ]
  },
  {
   "cell_type": "markdown",
   "metadata": {},
   "source": [
    "### Generate Parentheses\n",
    "Difficulty: *Medium*\n",
    "\n",
    "Description: Given `n` pairs of parentheses, write a function to generate all combinations of well-formed parentheses."
   ]
  },
  {
   "cell_type": "code",
   "execution_count": null,
   "metadata": {},
   "outputs": [],
   "source": [
    "def generateParenthesis(n):\n",
    "    brac = {'(':1, ')':-1}\n",
    "    group = []\n",
    "    count = 0\n",
    "    while count < n*2: \n",
    "        s = ''\n",
    "        tally = 0\n",
    "        for key, value in brac.items(): \n",
    "            if tally += value >= 0: \n",
    "                s += key\n",
    "            else: \n",
    "                continue\n",
    "        group.append(s)\n",
    "        count += 1\n",
    "    return group"
   ]
  },
  {
   "cell_type": "code",
   "execution_count": 54,
   "metadata": {},
   "outputs": [
    {
     "data": {
      "text/plain": [
       "'a'"
      ]
     },
     "execution_count": 54,
     "metadata": {},
     "output_type": "execute_result"
    }
   ],
   "source": [
    "s = ''\n",
    "s += 'a'\n",
    "s"
   ]
  },
  {
   "cell_type": "code",
   "execution_count": 38,
   "metadata": {},
   "outputs": [
    {
     "data": {
      "text/plain": [
       "1"
      ]
     },
     "execution_count": 38,
     "metadata": {},
     "output_type": "execute_result"
    }
   ],
   "source": [
    "arr[0,0]"
   ]
  },
  {
   "cell_type": "markdown",
   "metadata": {},
   "source": [
    "### Longest Palindromic Substring\n",
    "\n",
    "Difficulty: *Medium* \n",
    "\n",
    "Description: Given a string `s`, return the longest palindromic substring in `s`."
   ]
  },
  {
   "cell_type": "code",
   "execution_count": 20,
   "metadata": {},
   "outputs": [],
   "source": [
    "def expandFromCenter(s,l,r): \n",
    "    while l >= 0 and r < len(s) and s[l] == s[r]: \n",
    "        l -= 1\n",
    "        r += 1\n",
    "    return r-l -1\n",
    "\n",
    "def longestPalindrome(s):\n",
    "    # expanding around the center\n",
    "    start = 0\n",
    "    end = 0\n",
    "    for i in range(len(s)): \n",
    "        len1 = expandFromCenter(s,i,i)\n",
    "        len2 = expandFromCenter(s,i,i+1)\n",
    "        len_max = max(len1,len2)\n",
    "        if len_max > end - start: \n",
    "            start = int(i - (len_max - 1)/2)\n",
    "            end = int(i + len_max/2)\n",
    "    return s[start:end+1]"
   ]
  }
 ],
 "metadata": {
  "kernelspec": {
   "display_name": "Python 3 (Spyder)",
   "language": "python3",
   "name": "python3"
  },
  "language_info": {
   "codemirror_mode": {
    "name": "ipython",
    "version": 3
   },
   "file_extension": ".py",
   "mimetype": "text/x-python",
   "name": "python",
   "nbconvert_exporter": "python",
   "pygments_lexer": "ipython3",
   "version": "3.8.5"
  }
 },
 "nbformat": 4,
 "nbformat_minor": 4
}

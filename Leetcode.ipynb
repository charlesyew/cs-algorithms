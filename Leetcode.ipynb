{
 "cells": [
  {
   "cell_type": "markdown",
   "metadata": {},
   "source": [
    "# Leetcode Coding Test"
   ]
  },
  {
   "cell_type": "markdown",
   "metadata": {},
   "source": [
    "### Minimum number of swaps to make a string (of brackets) balanced\n",
    "Difficulty : *Medium*\n",
    "\n",
    "Description: You are given a 0-indexed string `s` of even length `n`. The string consists of exactly `n / 2` opening brackets `'['` and `n / 2` closing brackets `']'`.\n",
    "\n",
    "A string is called balanced if and only if:\n",
    "\n",
    "- It is the empty string, or\n",
    "- It can be written as `AB`, where both `A` and `B` are balanced strings, or\n",
    "- It can be written as `[C]`, where `C` is a balanced string.\n",
    "You may swap the brackets at any two indices any number of times.\n",
    "\n",
    "Return the minimum number of swaps to make `s` balanced."
   ]
  },
  {
   "cell_type": "code",
   "execution_count": 26,
   "metadata": {},
   "outputs": [],
   "source": [
    "def minSwaps(s):\n",
    "    count, swap = 0, 0\n",
    "    for i,c in enumerate(s): \n",
    "        if c == ']': \n",
    "            count -= 1\n",
    "        else: \n",
    "            count += 1\n",
    "        swap = min(count,swap)\n",
    "    min_swap = (-swap + 1)//2\n",
    "    return min_swap"
   ]
  },
  {
   "cell_type": "code",
   "execution_count": 39,
   "metadata": {},
   "outputs": [
    {
     "data": {
      "text/plain": [
       "0"
      ]
     },
     "execution_count": 39,
     "metadata": {},
     "output_type": "execute_result"
    }
   ],
   "source": [
    "minSwaps('[][[]][]')"
   ]
  },
  {
   "cell_type": "markdown",
   "metadata": {},
   "source": [
    "### Is a String of Brackets Balanced?\n",
    "Difficulty : *Medium*\n",
    "\n",
    "Description: "
   ]
  },
  {
   "cell_type": "code",
   "execution_count": 34,
   "metadata": {},
   "outputs": [],
   "source": [
    "def  balanced(a_str):\n",
    "  stack = []\n",
    "  pushChars, popChars = \"({[\", \")}]\"\n",
    "  for c in a_str :\n",
    "    if c in pushChars :\n",
    "      stack.append(c)\n",
    "    elif c in popChars :\n",
    "      if not len(stack) :\n",
    "        return False\n",
    "      else :\n",
    "        stackTop = stack.pop()\n",
    "        balancingBracket = pushChars[popChars.index(c)]\n",
    "        if stackTop != balancingBracket :\n",
    "          return False\n",
    "    else :\n",
    "      return False\n",
    "  return not len(stack)"
   ]
  },
  {
   "cell_type": "code",
   "execution_count": 38,
   "metadata": {},
   "outputs": [
    {
     "data": {
      "text/plain": [
       "False"
      ]
     },
     "execution_count": 38,
     "metadata": {},
     "output_type": "execute_result"
    }
   ],
   "source": [
    "balanced('{)()}')"
   ]
  },
  {
   "cell_type": "markdown",
   "metadata": {},
   "source": [
    "### 3Sum \n",
    "Difficulty: Medium \n",
    "\n",
    "Description: Given an integer array nums, return all the triplets `[nums[i], nums[j], nums[k]]` such that `i != j`, `i != k`, and `j != k`, and `nums[i] + nums[j] + nums[k] == 0`.\n",
    "\n",
    "Notice that the solution set must not contain duplicate triplets."
   ]
  },
  {
   "cell_type": "code",
   "execution_count": 155,
   "metadata": {},
   "outputs": [],
   "source": [
    "def threesums1(nums): # with bags\n",
    "    from collections_extended import bag\n",
    "    arr = []\n",
    "    n = len(nums)\n",
    "    for i in range(n): \n",
    "        for j in range(i+1,n): \n",
    "            for k in range(j + 1, n): \n",
    "                bag_n = bag([nums[i] , nums[j], nums[k]])\n",
    "                sum_n = nums[i] + nums[j] + nums[k]\n",
    "                if (sum_n == 0) & (bag_n not in arr): \n",
    "                    arr.append(bag_n)\n",
    "    \n",
    "    for i, l in enumerate(arr): \n",
    "        arr[i] = list(l)\n",
    "    return arr\n",
    "\n",
    "def threesums2(nums): # without bags \n",
    "    nums.sort()\n",
    "    n, arr = len(nums), []\n",
    "    for i in range(n): \n",
    "        if i > 0 and nums[i] == nums[i-1]: \n",
    "            continue\n",
    "        j, k = i + 1, n - 1\n",
    "        target = nums[i] * -1 \n",
    "        while j < k: \n",
    "            if nums[j] + nums[k] == target: \n",
    "                arr.append([nums[i], nums[j], nums[k]])\n",
    "                j += 1\n",
    "                while j < k and nums[j] == nums[j-1]: \n",
    "                    j += 1\n",
    "            elif nums[j] + nums[k] <= target: \n",
    "                j += 1\n",
    "            else: \n",
    "                k -= 1\n",
    "    return arr"
   ]
  },
  {
   "cell_type": "markdown",
   "metadata": {},
   "source": [
    "### Search a 2D Matrix\n",
    "Difficulty: *Medium* \n",
    "\n",
    "Description: Write an efficient algorithm that searches for a value in an `m x n` matrix. This matrix has the following properties:\n",
    "\n",
    "Integers in each row are sorted from left to right.\n",
    "The first integer of each row is greater than the last integer of the previous row."
   ]
  },
  {
   "cell_type": "code",
   "execution_count": 303,
   "metadata": {},
   "outputs": [],
   "source": [
    "def searchMatrix(matrix,target): \n",
    "    m = len(matrix)\n",
    "    n = len(matrix[0])\n",
    "    if target < matrix[0][0] or target > matrix[m-1][n-1]: \n",
    "        return 'false'\n",
    "    elif target == matrix[0][0] or target == matrix[m-1][n-1]: \n",
    "        return 'true'\n",
    "    else: \n",
    "        for i in range(m-1): \n",
    "            if target == matrix[i][n-1]: \n",
    "                return 'true'\n",
    "            elif i == 0 and target < matrix[i][n-1]: \n",
    "                for j in range(n-1): \n",
    "                    if target == matrix[i][j]: \n",
    "                        return 'true'\n",
    "            elif target > matrix[i][n-1] and target < matrix[i+1][n-1]:\n",
    "                for j in range(n-1): \n",
    "                    if target == matrix[i+1][j]: \n",
    "                        return 'true'\n",
    "            else: \n",
    "                for j in range(n-1):\n",
    "                    if target == matrix[m-1][j]: \n",
    "                        return 'true'\n",
    "    return 'false'"
   ]
  },
  {
   "cell_type": "code",
   "execution_count": 313,
   "metadata": {
    "scrolled": true
   },
   "outputs": [
    {
     "name": "stdout",
     "output_type": "stream",
     "text": [
      "0 false\n",
      "1 true\n",
      "2 false\n",
      "3 true\n",
      "4 false\n",
      "5 true\n",
      "6 false\n",
      "7 true\n",
      "8 false\n",
      "9 false\n",
      "10 true\n",
      "11 true\n",
      "12 false\n",
      "13 false\n",
      "14 false\n",
      "15 false\n",
      "16 true\n",
      "17 false\n",
      "18 false\n",
      "19 false\n",
      "20 true\n",
      "21 false\n",
      "22 false\n",
      "23 true\n",
      "24 false\n",
      "25 false\n",
      "26 false\n",
      "27 false\n",
      "28 false\n",
      "29 false\n",
      "30 true\n",
      "31 false\n",
      "32 false\n",
      "33 false\n",
      "34 true\n",
      "35 false\n",
      "36 false\n",
      "37 false\n",
      "38 false\n",
      "39 false\n",
      "40 false\n",
      "41 false\n",
      "42 false\n",
      "43 false\n",
      "44 false\n",
      "45 false\n",
      "46 false\n",
      "47 false\n",
      "48 false\n",
      "49 false\n",
      "50 false\n",
      "51 false\n",
      "52 false\n",
      "53 false\n",
      "54 false\n",
      "55 false\n",
      "56 false\n",
      "57 false\n",
      "58 false\n",
      "59 false\n",
      "60 true\n",
      "61 false\n",
      "62 false\n",
      "63 false\n",
      "64 false\n",
      "65 false\n",
      "66 false\n",
      "67 false\n",
      "68 false\n",
      "69 false\n",
      "70 false\n",
      "71 false\n",
      "72 false\n",
      "73 false\n",
      "74 false\n",
      "75 false\n",
      "76 false\n",
      "77 false\n",
      "78 false\n",
      "79 false\n",
      "80 false\n",
      "81 false\n",
      "82 false\n",
      "83 false\n",
      "84 false\n",
      "85 false\n",
      "86 false\n",
      "87 false\n",
      "88 false\n",
      "89 false\n",
      "90 false\n",
      "91 false\n",
      "92 false\n",
      "93 false\n",
      "94 false\n",
      "95 false\n",
      "96 false\n",
      "97 false\n",
      "98 false\n",
      "99 false\n"
     ]
    }
   ],
   "source": [
    "matrix = [[1,3,5,7],[10,11,16,20],[23,30,34,60]]\n",
    "for i in range(100): \n",
    "    s = searchMatrix(matrix,i)\n",
    "    print(i,s)"
   ]
  },
  {
   "cell_type": "markdown",
   "metadata": {},
   "source": [
    "### Prime Numbers\n",
    "Difficulty: Hard"
   ]
  },
  {
   "cell_type": "code",
   "execution_count": 41,
   "metadata": {},
   "outputs": [],
   "source": [
    "def prime_factors(n):    \n",
    "    return set(reduce(list.__add__, ([i, n//i] for i in range(1, int(n**0.5) + 1) if n % i == 0)))\n",
    "\n",
    "def product_sets(n):\n",
    "    return set(products(1, [], n, prime_factors(n)))\n",
    "\n",
    "def products(current_product, current_list, aim, factors):\n",
    "\n",
    "    if current_product == aim:\n",
    "        yield tuple(sorted(current_list))\n",
    "\n",
    "    elif 0 < current_product < aim:\n",
    "        for factor in factors:\n",
    "            if factor != 1:\n",
    "                for product in products(current_product * factor, current_list + [factor], aim, factors):\n",
    "                    yield product\n",
    "\n",
    "def  is_3d_array_size( a_size):\n",
    "    is_3d = False \n",
    "    final_list = list(product_sets(a_size))\n",
    "    for tuple in final_list:\n",
    "        if len(tuple)==3:\n",
    "            is_3d = True\n",
    "        print(tuple)\n",
    "    return is_3d\n",
    "    "
   ]
  },
  {
   "cell_type": "code",
   "execution_count": null,
   "metadata": {},
   "outputs": [],
   "source": [
    "# find recursively repeated digits in a list\n"
   ]
  },
  {
   "cell_type": "markdown",
   "metadata": {},
   "source": [
    "### Longest substring without repeating characters \n",
    "Difficulty: *Medium*\n",
    "\n",
    "Description: Given a string `s`, find the length of the longest substring without repeating characters."
   ]
  },
  {
   "cell_type": "code",
   "execution_count": 66,
   "metadata": {},
   "outputs": [],
   "source": [
    "# \n",
    "class Solution1(object):\n",
    "    def lengthOfLongestSubstring(self, s):\n",
    "        \"\"\"\n",
    "        :type s: str\n",
    "        :rtype: int\n",
    "        \"\"\"\n",
    "        \n",
    "        longest_str = \"\"\n",
    "        l = len(s)\n",
    "        for k in range(l): \n",
    "            front_str = \"\"\n",
    "            s_sub = s[k:]\n",
    "            for i in s_sub: \n",
    "                if i not in set(front_str): \n",
    "                    front_str += i\n",
    "                    if len(front_str) > len(longest_str) : \n",
    "                        longest_str = front_str\n",
    "                elif len(front_str) > len(longest_str) : \n",
    "                    longest_str = front_str\n",
    "                    front_str = i\n",
    "                else: \n",
    "                    front_str = i\n",
    "        return len(longest_str)\n",
    "    \n",
    "class Solution2: \n",
    "    # we use the hash map to store the location of the chars we have seen before . \n",
    "    # Every time we met a new char ,we check have we met it before? if we have met .we get the position . \n",
    "    # and use the the start <= usedChar[s[i]] to make sure we don't worry that 'pwwp' we won't miss w and go straight to \n",
    "    # p by this\n",
    "    def lengthOfLongestSubstring(self, s):\n",
    "        used = {}\n",
    "        max_length = start = 0\n",
    "        for i, c in enumerate(s):\n",
    "            if c in used and start <= used[c]:\n",
    "                start = used[c] + 1\n",
    "            else:\n",
    "                max_length = max(max_length, i - start + 1)\n",
    "\n",
    "            used[c] = i\n",
    "        return max_length\n",
    "    "
   ]
  },
  {
   "cell_type": "code",
   "execution_count": 54,
   "metadata": {},
   "outputs": [
    {
     "data": {
      "text/plain": [
       "3"
      ]
     },
     "execution_count": 54,
     "metadata": {},
     "output_type": "execute_result"
    }
   ],
   "source": [
    "sol = Solution()\n",
    "sol.lengthOfLongestSubstring('dvdk')"
   ]
  }
 ],
 "metadata": {
  "kernelspec": {
   "display_name": "Python 3",
   "language": "python",
   "name": "python3"
  },
  "language_info": {
   "codemirror_mode": {
    "name": "ipython",
    "version": 3
   },
   "file_extension": ".py",
   "mimetype": "text/x-python",
   "name": "python",
   "nbconvert_exporter": "python",
   "pygments_lexer": "ipython3",
   "version": "3.8.5"
  }
 },
 "nbformat": 4,
 "nbformat_minor": 4
}
